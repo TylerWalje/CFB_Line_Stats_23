{
 "cells": [
  {
   "cell_type": "code",
   "execution_count": 1,
   "id": "83cbaa3a",
   "metadata": {},
   "outputs": [
    {
     "name": "stderr",
     "output_type": "stream",
     "text": [
      "C:\\Users\\walje\\AppData\\Local\\Temp\\ipykernel_38692\\3497302629.py:4: UserWarning: \n",
      "The dash_table package is deprecated. Please replace\n",
      "`import dash_table` with `from dash import dash_table`\n",
      "\n",
      "Also, if you're using any of the table format helpers (e.g. Group), replace \n",
      "`from dash_table.Format import Group` with \n",
      "`from dash.dash_table.Format import Group`\n",
      "  import dash_table\n"
     ]
    }
   ],
   "source": [
    "import pandas as pd\n",
    "import dash\n",
    "from dash import dcc, html\n",
    "import dash_table\n",
    "import plotly.express as px"
   ]
  },
  {
   "cell_type": "code",
   "execution_count": 2,
   "id": "cbe20b53",
   "metadata": {},
   "outputs": [],
   "source": [
    "df = pd.read_csv('cfb_line_stats.csv')\n",
    "\n",
    "ranking_df = pd.DataFrame({'Ranking': range(1, 126)})"
   ]
  },
  {
   "cell_type": "code",
   "execution_count": 3,
   "id": "ad2bf87e",
   "metadata": {},
   "outputs": [],
   "source": [
    "app = dash.Dash(__name__)"
   ]
  },
  {
   "cell_type": "code",
   "execution_count": 4,
   "id": "17462e27",
   "metadata": {},
   "outputs": [],
   "source": [
    "# conference dropdown\n",
    "conference_dropdown = dcc.Dropdown(\n",
    "    id='conference-dropdown',\n",
    "    options=[{'label': conference, 'value': conference} for conference in df['Conference'].unique()] + [{'label': 'All', 'value': 'All'}],\n",
    "    value='All',  # Default selection\n",
    "    clearable=False\n",
    ")\n",
    "\n",
    "# visualization dropdown \n",
    "metric_dropdown = dcc.Dropdown(\n",
    "    id='metric-dropdown',\n",
    "    options=[{'label': col, 'value': col} for col in df.columns if col not in ['Team', 'Conference', 'Ranking']],\n",
    "    value='plays',  # Default selection metric\n",
    "    clearable=False\n",
    ")"
   ]
  },
  {
   "cell_type": "code",
   "execution_count": 5,
   "id": "7b1f9e6a",
   "metadata": {},
   "outputs": [],
   "source": [
    "@app.callback(\n",
    "    dash.dependencies.Output('graph', 'figure'),\n",
    "    [dash.dependencies.Input('conference-dropdown', 'value'),\n",
    "     dash.dependencies.Input('metric-dropdown', 'value')]\n",
    ")\n",
    "def update_graph(selected_conference, selected_metric):\n",
    "\n",
    "# conference filter\n",
    "    if selected_conference == 'All':\n",
    "        filtered_df = df\n",
    "    else:\n",
    "        filtered_df = df[df['Conference'] == selected_conference]\n",
    "\n",
    "# bar plot\n",
    "    fig = px.bar(filtered_df.sort_values(by=selected_metric, ascending=False), \n",
    "                 x='Team', y=selected_metric, title=f'{selected_metric} by Team')\n",
    "\n",
    "    return fig\n",
    "\n",
    "@app.callback(\n",
    "    dash.dependencies.Output('data-table', 'data'),\n",
    "    [dash.dependencies.Input('conference-dropdown', 'value'),\n",
    "     dash.dependencies.Input('data-table', 'sort_by'),\n",
    "     dash.dependencies.Input('data-table', 'filter_query')]\n",
    ")\n",
    "def update_table(selected_conference, sort_by, filter_query):\n",
    "    filtered_df = df.copy()\n",
    "\n",
    "# apply conference filtering\n",
    "    if selected_conference != 'All':\n",
    "        filtered_df = filtered_df[filtered_df['Conference'] == selected_conference]\n",
    "\n",
    "# apply filtering query (if necessary)\n",
    "    if filter_query:\n",
    "        filtered_df = filtered_df.query(filter_query)\n",
    "\n",
    "# sort by\n",
    "    if sort_by:\n",
    "        filtered_df = filtered_df.sort_values(\n",
    "            by=[col['column_id'] for col in sort_by],\n",
    "            ascending=[col['direction'] == 'asc' for col in sort_by]\n",
    "        )\n",
    "\n",
    "    return filtered_df.to_dict('records')"
   ]
  },
  {
   "cell_type": "code",
   "execution_count": 6,
   "id": "5f575c16",
   "metadata": {},
   "outputs": [],
   "source": [
    "# app layout\n",
    "app.layout = html.Div([\n",
    "    html.H1(\"CFB Line Stats\"),\n",
    "    conference_dropdown,\n",
    "    metric_dropdown, \n",
    "    dcc.Graph(id='graph'),  \n",
    "    html.Div([\n",
    "        dash_table.DataTable(\n",
    "            id='ranking-table',\n",
    "            columns=[{'name': 'Ranking', 'id': 'Ranking'}],  \n",
    "            data=ranking_df.to_dict('records'),  \n",
    "            sort_action='none',  \n",
    "            filter_action='none', \n",
    "            page_size=125,\n",
    "            style_table={'width': '50px', 'overflowX': 'hidden'},\n",
    "            style_cell={'textAlign': 'center'},\n",
    "        ),\n",
    "        dash_table.DataTable(\n",
    "            id='data-table',\n",
    "            columns=[{'name': col, 'id': col, 'sortable': True} for col in df.columns],\n",
    "            data=df.to_dict('records'), \n",
    "            sort_action='native',\n",
    "            filter_action='none', \n",
    "            page_size=125,  \n",
    "            style_table={'overflowX': 'auto'},\n",
    "            style_cell={'padding': '5px'},\n",
    "        ),\n",
    "    ], style={'display': 'flex', 'alignItems': 'start'}),\n",
    "])"
   ]
  },
  {
   "cell_type": "code",
   "execution_count": 7,
   "id": "ca1a3219",
   "metadata": {},
   "outputs": [
    {
     "data": {
      "text/html": [
       "\n",
       "        <iframe\n",
       "            width=\"100%\"\n",
       "            height=\"650\"\n",
       "            src=\"http://127.0.0.1:8070/\"\n",
       "            frameborder=\"0\"\n",
       "            allowfullscreen\n",
       "            \n",
       "        ></iframe>\n",
       "        "
      ],
      "text/plain": [
       "<IPython.lib.display.IFrame at 0x13d8b8e9650>"
      ]
     },
     "metadata": {},
     "output_type": "display_data"
    }
   ],
   "source": [
    "app.run_server(debug=False, use_reloader=False, port=8070)"
   ]
  },
  {
   "cell_type": "code",
   "execution_count": null,
   "id": "0ca3e8cb",
   "metadata": {},
   "outputs": [],
   "source": []
  }
 ],
 "metadata": {
  "kernelspec": {
   "display_name": "Python 3 (ipykernel)",
   "language": "python",
   "name": "python3"
  },
  "language_info": {
   "codemirror_mode": {
    "name": "ipython",
    "version": 3
   },
   "file_extension": ".py",
   "mimetype": "text/x-python",
   "name": "python",
   "nbconvert_exporter": "python",
   "pygments_lexer": "ipython3",
   "version": "3.11.5"
  }
 },
 "nbformat": 4,
 "nbformat_minor": 5
}
